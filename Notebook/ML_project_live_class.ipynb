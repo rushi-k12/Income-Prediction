{
 "cells": [
  {
   "cell_type": "markdown",
   "id": "573594a3",
   "metadata": {},
   "source": [
    "## Problem Statement "
   ]
  },
  {
   "cell_type": "raw",
   "id": "dbb8cc13",
   "metadata": {},
   "source": [
    "We are working on Income Prediction problem associated with the Adult Income Census dataset. \n",
    "The goal is to accurately predict whether or not person is making more or less than $50,000 a year. \n",
    "While working through this problem statment."
   ]
  },
  {
   "cell_type": "markdown",
   "id": "f8a619be",
   "metadata": {},
   "source": [
    "#### About the Dataset\n",
    "- **Age:** Describes the age of individuals. Continuous.\n",
    "- **Workclass:** Private, Self-emp-not-inc, Self-emp-inc, Federal-gov, Local-gov, State-gov, Without-pay, Never-worked.\n",
    "- **fnlwgt:** Continuous.\n",
    "- **education:** Bachelors, Some-college, 11th, HS-grad, Prof-school, Assoc-acdm, Assoc-voc, 9th, 7th-8th, 12th, Masters, 1st-4th, 10th, Doctorate, 5th-6th, Preschool.\n",
    "- **education-num:** Number of years spent in education. Continuous.\n",
    "- **marital-status:** Married-civ-spouse, Divorced, Never-married, Separated, Widowed, Married-spouse-absent, Married-AF-spouse.\n",
    "- **occupation:** Tech-support, Craft-repair, Other-service, Sales, Exec-managerial, Prof-specialty, Handlers-cleaners, Machine-op-inspct, Adm-clerical, Farming-fishing, Transport-moving, Priv-house-serv, Protective-serv, Armed-Forces.\n",
    "- **relationship:** Wife, Own-child, Husband, Not-in-family, Other-relative, Unmarried.\n",
    "- **race:** White, Asian-Pac-Islander, Amer-Indian-Eskimo, Other, Black.\n",
    "- **sex:** Female, Male.\n",
    "- **capital-gain:** Continuous.\n",
    "- **capital-loss:** Continuous.\n",
    "- **hours-per-week:** Continuous.\n",
    "- **native-country:** United-States, Cambodia, England, Puerto-Rico, Canada, Germany, Outlying-US(Guam-USVI-etc), India, Japan, Greece, South, China, Cuba, Iran, Honduras, Philippines, Italy, Poland, Jamaica, Vietnam, Mexico, Portugal, Ireland, France, Dominican-Republic, Laos, Ecuador, Taiwan, Haiti, Columbia, Hungary, Guatemala, Nicaragua, Scotland, Thailand, Yugoslavia, El-Salvador, Trinadad&Tobago, Peru, Hong, Holand-Netherlands.\n",
    "- **salary:** >50K,<=50K"
   ]
  },
  {
   "cell_type": "code",
   "execution_count": 1,
   "id": "989d8e5d",
   "metadata": {},
   "outputs": [],
   "source": [
    "import pandas as pd\n",
    "import numpy as np\n",
    "import statistics as st\n",
    "import matplotlib.pyplot as plt\n",
    "import seaborn as sns\n",
    "import warnings\n",
    "warnings.filterwarnings(\"ignore\")\n",
    "sns.set(rc={\"figure.figsize\":(15,6)})\n",
    "pd.pandas.set_option(\"display.max_columns\",None)"
   ]
  },
  {
   "cell_type": "code",
   "execution_count": 3,
   "id": "b924553a",
   "metadata": {},
   "outputs": [],
   "source": [
    "data = pd.read_csv(\"income_cleandata.csv\")"
   ]
  },
  {
   "cell_type": "code",
   "execution_count": 4,
   "id": "3cedd946",
   "metadata": {
    "scrolled": true
   },
   "outputs": [
    {
     "data": {
      "text/html": [
       "<div>\n",
       "<style scoped>\n",
       "    .dataframe tbody tr th:only-of-type {\n",
       "        vertical-align: middle;\n",
       "    }\n",
       "\n",
       "    .dataframe tbody tr th {\n",
       "        vertical-align: top;\n",
       "    }\n",
       "\n",
       "    .dataframe thead th {\n",
       "        text-align: right;\n",
       "    }\n",
       "</style>\n",
       "<table border=\"1\" class=\"dataframe\">\n",
       "  <thead>\n",
       "    <tr style=\"text-align: right;\">\n",
       "      <th></th>\n",
       "      <th>age</th>\n",
       "      <th>workclass</th>\n",
       "      <th>education_num</th>\n",
       "      <th>marital_status</th>\n",
       "      <th>occupation</th>\n",
       "      <th>relationship</th>\n",
       "      <th>race</th>\n",
       "      <th>sex</th>\n",
       "      <th>capital_gain</th>\n",
       "      <th>capital_loss</th>\n",
       "      <th>hours_per_week</th>\n",
       "      <th>native_country</th>\n",
       "      <th>income</th>\n",
       "    </tr>\n",
       "  </thead>\n",
       "  <tbody>\n",
       "    <tr>\n",
       "      <th>0</th>\n",
       "      <td>39</td>\n",
       "      <td>6</td>\n",
       "      <td>13</td>\n",
       "      <td>4</td>\n",
       "      <td>0</td>\n",
       "      <td>1</td>\n",
       "      <td>4</td>\n",
       "      <td>1</td>\n",
       "      <td>2174</td>\n",
       "      <td>0</td>\n",
       "      <td>40</td>\n",
       "      <td>38</td>\n",
       "      <td>0</td>\n",
       "    </tr>\n",
       "    <tr>\n",
       "      <th>1</th>\n",
       "      <td>50</td>\n",
       "      <td>5</td>\n",
       "      <td>13</td>\n",
       "      <td>2</td>\n",
       "      <td>3</td>\n",
       "      <td>0</td>\n",
       "      <td>4</td>\n",
       "      <td>1</td>\n",
       "      <td>0</td>\n",
       "      <td>0</td>\n",
       "      <td>13</td>\n",
       "      <td>38</td>\n",
       "      <td>0</td>\n",
       "    </tr>\n",
       "    <tr>\n",
       "      <th>2</th>\n",
       "      <td>38</td>\n",
       "      <td>3</td>\n",
       "      <td>9</td>\n",
       "      <td>0</td>\n",
       "      <td>5</td>\n",
       "      <td>1</td>\n",
       "      <td>4</td>\n",
       "      <td>1</td>\n",
       "      <td>0</td>\n",
       "      <td>0</td>\n",
       "      <td>40</td>\n",
       "      <td>38</td>\n",
       "      <td>0</td>\n",
       "    </tr>\n",
       "    <tr>\n",
       "      <th>3</th>\n",
       "      <td>53</td>\n",
       "      <td>3</td>\n",
       "      <td>7</td>\n",
       "      <td>2</td>\n",
       "      <td>5</td>\n",
       "      <td>0</td>\n",
       "      <td>2</td>\n",
       "      <td>1</td>\n",
       "      <td>0</td>\n",
       "      <td>0</td>\n",
       "      <td>40</td>\n",
       "      <td>38</td>\n",
       "      <td>0</td>\n",
       "    </tr>\n",
       "    <tr>\n",
       "      <th>4</th>\n",
       "      <td>28</td>\n",
       "      <td>3</td>\n",
       "      <td>13</td>\n",
       "      <td>2</td>\n",
       "      <td>9</td>\n",
       "      <td>5</td>\n",
       "      <td>2</td>\n",
       "      <td>0</td>\n",
       "      <td>0</td>\n",
       "      <td>0</td>\n",
       "      <td>40</td>\n",
       "      <td>4</td>\n",
       "      <td>0</td>\n",
       "    </tr>\n",
       "  </tbody>\n",
       "</table>\n",
       "</div>"
      ],
      "text/plain": [
       "   age  workclass  education_num  marital_status  occupation  relationship  \\\n",
       "0   39          6             13               4           0             1   \n",
       "1   50          5             13               2           3             0   \n",
       "2   38          3              9               0           5             1   \n",
       "3   53          3              7               2           5             0   \n",
       "4   28          3             13               2           9             5   \n",
       "\n",
       "   race  sex  capital_gain  capital_loss  hours_per_week  native_country  \\\n",
       "0     4    1          2174             0              40              38   \n",
       "1     4    1             0             0              13              38   \n",
       "2     4    1             0             0              40              38   \n",
       "3     2    1             0             0              40              38   \n",
       "4     2    0             0             0              40               4   \n",
       "\n",
       "   income  \n",
       "0       0  \n",
       "1       0  \n",
       "2       0  \n",
       "3       0  \n",
       "4       0  "
      ]
     },
     "execution_count": 4,
     "metadata": {},
     "output_type": "execute_result"
    }
   ],
   "source": [
    "data.head() # capital.loss = rename(capital_loss)"
   ]
  },
  {
   "cell_type": "code",
   "execution_count": 5,
   "id": "d83f6ab1",
   "metadata": {},
   "outputs": [
    {
     "data": {
      "text/plain": [
       "(32537, 13)"
      ]
     },
     "execution_count": 5,
     "metadata": {},
     "output_type": "execute_result"
    }
   ],
   "source": [
    "data.shape"
   ]
  },
  {
   "cell_type": "code",
   "execution_count": 6,
   "id": "4b6acad6",
   "metadata": {},
   "outputs": [
    {
     "data": {
      "text/plain": [
       "Index(['age', 'workclass', 'education_num', 'marital_status', 'occupation',\n",
       "       'relationship', 'race', 'sex', 'capital_gain', 'capital_loss',\n",
       "       'hours_per_week', 'native_country', 'income'],\n",
       "      dtype='object')"
      ]
     },
     "execution_count": 6,
     "metadata": {},
     "output_type": "execute_result"
    }
   ],
   "source": [
    "data.columns"
   ]
  },
  {
   "cell_type": "code",
   "execution_count": 7,
   "id": "904ba88a",
   "metadata": {},
   "outputs": [
    {
     "data": {
      "text/plain": [
       "age               int64\n",
       "workclass         int64\n",
       "education_num     int64\n",
       "marital_status    int64\n",
       "occupation        int64\n",
       "relationship      int64\n",
       "race              int64\n",
       "sex               int64\n",
       "capital_gain      int64\n",
       "capital_loss      int64\n",
       "hours_per_week    int64\n",
       "native_country    int64\n",
       "income            int64\n",
       "dtype: object"
      ]
     },
     "execution_count": 7,
     "metadata": {},
     "output_type": "execute_result"
    }
   ],
   "source": [
    "data.dtypes"
   ]
  },
  {
   "cell_type": "code",
   "execution_count": 8,
   "id": "71b31a30",
   "metadata": {},
   "outputs": [
    {
     "name": "stdout",
     "output_type": "stream",
     "text": [
      "<class 'pandas.core.frame.DataFrame'>\n",
      "RangeIndex: 32537 entries, 0 to 32536\n",
      "Data columns (total 13 columns):\n",
      " #   Column          Non-Null Count  Dtype\n",
      "---  ------          --------------  -----\n",
      " 0   age             32537 non-null  int64\n",
      " 1   workclass       32537 non-null  int64\n",
      " 2   education_num   32537 non-null  int64\n",
      " 3   marital_status  32537 non-null  int64\n",
      " 4   occupation      32537 non-null  int64\n",
      " 5   relationship    32537 non-null  int64\n",
      " 6   race            32537 non-null  int64\n",
      " 7   sex             32537 non-null  int64\n",
      " 8   capital_gain    32537 non-null  int64\n",
      " 9   capital_loss    32537 non-null  int64\n",
      " 10  hours_per_week  32537 non-null  int64\n",
      " 11  native_country  32537 non-null  int64\n",
      " 12  income          32537 non-null  int64\n",
      "dtypes: int64(13)\n",
      "memory usage: 3.2 MB\n"
     ]
    }
   ],
   "source": [
    "data.info()"
   ]
  },
  {
   "cell_type": "code",
   "execution_count": 9,
   "id": "59e804e6",
   "metadata": {},
   "outputs": [
    {
     "data": {
      "text/plain": [
       "age               0\n",
       "workclass         0\n",
       "education_num     0\n",
       "marital_status    0\n",
       "occupation        0\n",
       "relationship      0\n",
       "race              0\n",
       "sex               0\n",
       "capital_gain      0\n",
       "capital_loss      0\n",
       "hours_per_week    0\n",
       "native_country    0\n",
       "income            0\n",
       "dtype: int64"
      ]
     },
     "execution_count": 9,
     "metadata": {},
     "output_type": "execute_result"
    }
   ],
   "source": [
    "# Check null values in our complete dataset\n",
    "data.isnull().sum()"
   ]
  },
  {
   "cell_type": "code",
   "execution_count": 10,
   "id": "a929b368",
   "metadata": {},
   "outputs": [
    {
     "data": {
      "text/plain": [
       "3567"
      ]
     },
     "execution_count": 10,
     "metadata": {},
     "output_type": "execute_result"
    }
   ],
   "source": [
    "# check duplicet value in data set\n",
    "data.duplicated().sum()"
   ]
  },
  {
   "cell_type": "code",
   "execution_count": 11,
   "id": "5f6d9d4b",
   "metadata": {},
   "outputs": [],
   "source": [
    "# drop duplicate value from data\n",
    "data.drop_duplicates(inplace=True)"
   ]
  },
  {
   "cell_type": "code",
   "execution_count": 12,
   "id": "09556a68",
   "metadata": {
    "scrolled": true
   },
   "outputs": [
    {
     "data": {
      "text/html": [
       "<div>\n",
       "<style scoped>\n",
       "    .dataframe tbody tr th:only-of-type {\n",
       "        vertical-align: middle;\n",
       "    }\n",
       "\n",
       "    .dataframe tbody tr th {\n",
       "        vertical-align: top;\n",
       "    }\n",
       "\n",
       "    .dataframe thead th {\n",
       "        text-align: right;\n",
       "    }\n",
       "</style>\n",
       "<table border=\"1\" class=\"dataframe\">\n",
       "  <thead>\n",
       "    <tr style=\"text-align: right;\">\n",
       "      <th></th>\n",
       "      <th>age</th>\n",
       "      <th>workclass</th>\n",
       "      <th>education_num</th>\n",
       "      <th>marital_status</th>\n",
       "      <th>occupation</th>\n",
       "      <th>relationship</th>\n",
       "      <th>race</th>\n",
       "      <th>sex</th>\n",
       "      <th>capital_gain</th>\n",
       "      <th>capital_loss</th>\n",
       "      <th>hours_per_week</th>\n",
       "      <th>native_country</th>\n",
       "      <th>income</th>\n",
       "    </tr>\n",
       "  </thead>\n",
       "  <tbody>\n",
       "    <tr>\n",
       "      <th>count</th>\n",
       "      <td>28970.000000</td>\n",
       "      <td>28970.000000</td>\n",
       "      <td>28970.000000</td>\n",
       "      <td>28970.000000</td>\n",
       "      <td>28970.000000</td>\n",
       "      <td>28970.000000</td>\n",
       "      <td>28970.000000</td>\n",
       "      <td>28970.000000</td>\n",
       "      <td>28970.00000</td>\n",
       "      <td>28970.000000</td>\n",
       "      <td>28970.000000</td>\n",
       "      <td>28970.000000</td>\n",
       "      <td>28970.000000</td>\n",
       "    </tr>\n",
       "    <tr>\n",
       "      <th>mean</th>\n",
       "      <td>39.280428</td>\n",
       "      <td>3.103038</td>\n",
       "      <td>10.100759</td>\n",
       "      <td>2.590991</td>\n",
       "      <td>6.221954</td>\n",
       "      <td>1.471660</td>\n",
       "      <td>3.630894</td>\n",
       "      <td>0.661063</td>\n",
       "      <td>1203.01184</td>\n",
       "      <td>97.597825</td>\n",
       "      <td>40.652054</td>\n",
       "      <td>36.227856</td>\n",
       "      <td>0.247843</td>\n",
       "    </tr>\n",
       "    <tr>\n",
       "      <th>std</th>\n",
       "      <td>13.682949</td>\n",
       "      <td>1.160457</td>\n",
       "      <td>2.647603</td>\n",
       "      <td>1.538046</td>\n",
       "      <td>3.968910</td>\n",
       "      <td>1.624182</td>\n",
       "      <td>0.886576</td>\n",
       "      <td>0.473357</td>\n",
       "      <td>7794.72045</td>\n",
       "      <td>424.880797</td>\n",
       "      <td>12.748275</td>\n",
       "      <td>6.386022</td>\n",
       "      <td>0.431767</td>\n",
       "    </tr>\n",
       "    <tr>\n",
       "      <th>min</th>\n",
       "      <td>17.000000</td>\n",
       "      <td>0.000000</td>\n",
       "      <td>1.000000</td>\n",
       "      <td>0.000000</td>\n",
       "      <td>0.000000</td>\n",
       "      <td>0.000000</td>\n",
       "      <td>0.000000</td>\n",
       "      <td>0.000000</td>\n",
       "      <td>0.00000</td>\n",
       "      <td>0.000000</td>\n",
       "      <td>1.000000</td>\n",
       "      <td>0.000000</td>\n",
       "      <td>0.000000</td>\n",
       "    </tr>\n",
       "    <tr>\n",
       "      <th>25%</th>\n",
       "      <td>28.000000</td>\n",
       "      <td>3.000000</td>\n",
       "      <td>9.000000</td>\n",
       "      <td>2.000000</td>\n",
       "      <td>3.000000</td>\n",
       "      <td>0.000000</td>\n",
       "      <td>4.000000</td>\n",
       "      <td>0.000000</td>\n",
       "      <td>0.00000</td>\n",
       "      <td>0.000000</td>\n",
       "      <td>40.000000</td>\n",
       "      <td>38.000000</td>\n",
       "      <td>0.000000</td>\n",
       "    </tr>\n",
       "    <tr>\n",
       "      <th>50%</th>\n",
       "      <td>38.000000</td>\n",
       "      <td>3.000000</td>\n",
       "      <td>10.000000</td>\n",
       "      <td>2.000000</td>\n",
       "      <td>7.000000</td>\n",
       "      <td>1.000000</td>\n",
       "      <td>4.000000</td>\n",
       "      <td>1.000000</td>\n",
       "      <td>0.00000</td>\n",
       "      <td>0.000000</td>\n",
       "      <td>40.000000</td>\n",
       "      <td>38.000000</td>\n",
       "      <td>0.000000</td>\n",
       "    </tr>\n",
       "    <tr>\n",
       "      <th>75%</th>\n",
       "      <td>48.000000</td>\n",
       "      <td>3.000000</td>\n",
       "      <td>13.000000</td>\n",
       "      <td>4.000000</td>\n",
       "      <td>9.000000</td>\n",
       "      <td>3.000000</td>\n",
       "      <td>4.000000</td>\n",
       "      <td>1.000000</td>\n",
       "      <td>0.00000</td>\n",
       "      <td>0.000000</td>\n",
       "      <td>45.000000</td>\n",
       "      <td>38.000000</td>\n",
       "      <td>0.000000</td>\n",
       "    </tr>\n",
       "    <tr>\n",
       "      <th>max</th>\n",
       "      <td>90.000000</td>\n",
       "      <td>7.000000</td>\n",
       "      <td>16.000000</td>\n",
       "      <td>6.000000</td>\n",
       "      <td>13.000000</td>\n",
       "      <td>5.000000</td>\n",
       "      <td>4.000000</td>\n",
       "      <td>1.000000</td>\n",
       "      <td>99999.00000</td>\n",
       "      <td>4356.000000</td>\n",
       "      <td>99.000000</td>\n",
       "      <td>40.000000</td>\n",
       "      <td>1.000000</td>\n",
       "    </tr>\n",
       "  </tbody>\n",
       "</table>\n",
       "</div>"
      ],
      "text/plain": [
       "                age     workclass  education_num  marital_status  \\\n",
       "count  28970.000000  28970.000000   28970.000000    28970.000000   \n",
       "mean      39.280428      3.103038      10.100759        2.590991   \n",
       "std       13.682949      1.160457       2.647603        1.538046   \n",
       "min       17.000000      0.000000       1.000000        0.000000   \n",
       "25%       28.000000      3.000000       9.000000        2.000000   \n",
       "50%       38.000000      3.000000      10.000000        2.000000   \n",
       "75%       48.000000      3.000000      13.000000        4.000000   \n",
       "max       90.000000      7.000000      16.000000        6.000000   \n",
       "\n",
       "         occupation  relationship          race           sex  capital_gain  \\\n",
       "count  28970.000000  28970.000000  28970.000000  28970.000000   28970.00000   \n",
       "mean       6.221954      1.471660      3.630894      0.661063    1203.01184   \n",
       "std        3.968910      1.624182      0.886576      0.473357    7794.72045   \n",
       "min        0.000000      0.000000      0.000000      0.000000       0.00000   \n",
       "25%        3.000000      0.000000      4.000000      0.000000       0.00000   \n",
       "50%        7.000000      1.000000      4.000000      1.000000       0.00000   \n",
       "75%        9.000000      3.000000      4.000000      1.000000       0.00000   \n",
       "max       13.000000      5.000000      4.000000      1.000000   99999.00000   \n",
       "\n",
       "       capital_loss  hours_per_week  native_country        income  \n",
       "count  28970.000000    28970.000000    28970.000000  28970.000000  \n",
       "mean      97.597825       40.652054       36.227856      0.247843  \n",
       "std      424.880797       12.748275        6.386022      0.431767  \n",
       "min        0.000000        1.000000        0.000000      0.000000  \n",
       "25%        0.000000       40.000000       38.000000      0.000000  \n",
       "50%        0.000000       40.000000       38.000000      0.000000  \n",
       "75%        0.000000       45.000000       38.000000      0.000000  \n",
       "max     4356.000000       99.000000       40.000000      1.000000  "
      ]
     },
     "execution_count": 12,
     "metadata": {},
     "output_type": "execute_result"
    }
   ],
   "source": [
    "data.describe()"
   ]
  },
  {
   "cell_type": "code",
   "execution_count": null,
   "id": "2c07f1bc",
   "metadata": {},
   "outputs": [],
   "source": []
  },
  {
   "cell_type": "code",
   "execution_count": 14,
   "id": "e8f6b87e",
   "metadata": {},
   "outputs": [],
   "source": [
    "# saprate catigorical and numerical features\n",
    "catigorical_features = data.select_dtypes(include=\"object\").columns\n",
    "numerical_features = data.select_dtypes(exclude=\"object\").columns"
   ]
  },
  {
   "cell_type": "code",
   "execution_count": 15,
   "id": "6465391e",
   "metadata": {
    "scrolled": true
   },
   "outputs": [
    {
     "data": {
      "text/plain": [
       "Index([], dtype='object')"
      ]
     },
     "execution_count": 15,
     "metadata": {},
     "output_type": "execute_result"
    }
   ],
   "source": [
    "catigorical_features"
   ]
  },
  {
   "cell_type": "code",
   "execution_count": 16,
   "id": "0080b5f4",
   "metadata": {},
   "outputs": [
    {
     "data": {
      "text/plain": [
       "Index(['age', 'workclass', 'education_num', 'marital_status', 'occupation',\n",
       "       'relationship', 'race', 'sex', 'capital_gain', 'capital_loss',\n",
       "       'hours_per_week', 'native_country', 'income'],\n",
       "      dtype='object')"
      ]
     },
     "execution_count": 16,
     "metadata": {},
     "output_type": "execute_result"
    }
   ],
   "source": [
    "numerical_features"
   ]
  },
  {
   "cell_type": "code",
   "execution_count": null,
   "id": "5c594828",
   "metadata": {},
   "outputs": [],
   "source": [
    "data['workclass'].value_counts()"
   ]
  },
  {
   "cell_type": "code",
   "execution_count": null,
   "id": "824e9c8d",
   "metadata": {},
   "outputs": [],
   "source": [
    "# fetch the unique value from catigorical data\n",
    "for i in catigorical_features:\n",
    "    print(i,data[i].unique())\n",
    "    \n",
    "    print()\n",
    "    print(\"*****************************Seperated_Columns********************************\")\n",
    "    print()"
   ]
  },
  {
   "cell_type": "code",
   "execution_count": null,
   "id": "b8adbea6",
   "metadata": {},
   "outputs": [],
   "source": [
    "# remove ? and replace with mode value # .mode()\n",
    "data[\"workclass\"] = data[\"workclass\"].replace(\" ?\",\" Private\")\n",
    "data[\"occupation\"] = data[\"occupation\"].replace(\" ?\",\" Prof-specialty\")\n",
    "data[\"native_country\"] = data[\"native.country\"].replace(\" ?\",\" United-States\")"
   ]
  },
  {
   "cell_type": "markdown",
   "id": "45d958fd",
   "metadata": {},
   "source": [
    "# Data Visualization"
   ]
  },
  {
   "cell_type": "code",
   "execution_count": null,
   "id": "edcd86ef",
   "metadata": {},
   "outputs": [],
   "source": [
    "plt.style.use('fivethirtyeight')\n",
    "sns.set(rc={\"figure.figsize\":(15,6)})\n",
    "\n",
    "colmns1 = ['workclass', 'education', 'marital.status', 'occupation']\n",
    "\n",
    "for i in range(0,len(colmns1)):\n",
    "    plt.subplot(2,4,i+1)\n",
    "    sns.countplot(x=data[colmns1[i]])\n",
    "    plt.xticks(size=15,rotation=90)\n",
    "    plt.tight_layout()"
   ]
  },
  {
   "cell_type": "code",
   "execution_count": null,
   "id": "12fb06b7",
   "metadata": {},
   "outputs": [],
   "source": [
    "colmns2 = ['relationship', 'race', 'sex', 'income']\n",
    "\n",
    "for i in range(0,len(colmns2)):\n",
    "    plt.subplot(2,4,i+1)\n",
    "    sns.countplot(x=data[colmns2[i]])\n",
    "    plt.xticks(size=15,rotation=90)\n",
    "    plt.tight_layout()"
   ]
  },
  {
   "cell_type": "code",
   "execution_count": null,
   "id": "bf697a7d",
   "metadata": {},
   "outputs": [],
   "source": [
    "plt.suptitle(\"Distribution Graphs of numerical features\")\n",
    "for i in range(0,len(numerical_features)):\n",
    "    plt.subplot(2,4,i+1)\n",
    "    sns.distplot(x=data[numerical_features[i]])\n",
    "    plt.xticks(size=15,rotation=90)\n",
    "    plt.tight_layout()"
   ]
  },
  {
   "cell_type": "code",
   "execution_count": null,
   "id": "c219bb80",
   "metadata": {
    "scrolled": false
   },
   "outputs": [],
   "source": [
    "plt.suptitle(\"Boxplot of numerical features to see outlayers \")\n",
    "for i in range(0,len(numerical_features)):\n",
    "    plt.subplot(2,4,i+1)\n",
    "    sns.boxplot(x=data[numerical_features[i]])\n",
    "    plt.xticks(size=15,rotation=90)\n",
    "    plt.tight_layout()"
   ]
  },
  {
   "cell_type": "code",
   "execution_count": null,
   "id": "e9bc8e23",
   "metadata": {},
   "outputs": [],
   "source": [
    "data.head()"
   ]
  },
  {
   "cell_type": "code",
   "execution_count": null,
   "id": "adbb510a",
   "metadata": {},
   "outputs": [],
   "source": [
    "salary = pd.crosstab(data['income'],data['workclass'])\n",
    "salary.plot(kind='bar')"
   ]
  },
  {
   "cell_type": "code",
   "execution_count": null,
   "id": "f66acbfb",
   "metadata": {},
   "outputs": [],
   "source": [
    "education = pd.crosstab(data['income'],data['education'])\n",
    "education.plot(kind=\"bar\")"
   ]
  },
  {
   "cell_type": "code",
   "execution_count": null,
   "id": "7d8709d3",
   "metadata": {},
   "outputs": [],
   "source": [
    "marital_status = pd.crosstab(data['income'],data['marital.status'])\n",
    "marital_status.plot(kind=\"bar\")"
   ]
  },
  {
   "cell_type": "code",
   "execution_count": null,
   "id": "905d5016",
   "metadata": {},
   "outputs": [],
   "source": [
    "occupation = pd.crosstab(data['income'],data['occupation'])\n",
    "occupation.plot(kind=\"bar\")"
   ]
  },
  {
   "cell_type": "code",
   "execution_count": null,
   "id": "085d0fb6",
   "metadata": {},
   "outputs": [],
   "source": [
    "relationship = pd.crosstab(data['income'],data['relationship'])\n",
    "relationship.plot(kind=\"bar\")"
   ]
  },
  {
   "cell_type": "code",
   "execution_count": null,
   "id": "8d87286d",
   "metadata": {},
   "outputs": [],
   "source": [
    "sex = pd.crosstab(data['income'],data['sex'])\n",
    "sex.plot(kind=\"bar\")"
   ]
  },
  {
   "cell_type": "code",
   "execution_count": null,
   "id": "019f81c3",
   "metadata": {},
   "outputs": [],
   "source": [
    "catigorical_features"
   ]
  },
  {
   "cell_type": "code",
   "execution_count": null,
   "id": "2a89b203",
   "metadata": {},
   "outputs": [],
   "source": [
    "data.head()"
   ]
  },
  {
   "cell_type": "code",
   "execution_count": null,
   "id": "aca6984f",
   "metadata": {},
   "outputs": [],
   "source": [
    "from sklearn.preprocessing import LabelEncoder\n",
    "\n",
    "# create a LabelEncoder object\n",
    "le = LabelEncoder()\n",
    "\n",
    "# define the categorical features\n",
    "categorical_features =['workclass', 'education', 'marital.status', 'occupation',\n",
    "       'relationship', 'race', 'sex', 'native_country']\n",
    "\n",
    "# loop through the categorical features and encode them\n",
    "for feature in categorical_features:\n",
    "    le.fit(data[feature])\n",
    "    data[feature] = le.transform(data[feature])"
   ]
  },
  {
   "cell_type": "code",
   "execution_count": null,
   "id": "fb2cd527",
   "metadata": {},
   "outputs": [],
   "source": [
    "data[\"income\"] = data[\"income\"].map({'<=50K':0, '>50K':1})"
   ]
  },
  {
   "cell_type": "code",
   "execution_count": null,
   "id": "9b90ed2e",
   "metadata": {},
   "outputs": [],
   "source": [
    "sns.heatmap(data.corr(),annot=True)"
   ]
  },
  {
   "cell_type": "code",
   "execution_count": null,
   "id": "55108dcb",
   "metadata": {},
   "outputs": [],
   "source": [
    "data.head()"
   ]
  },
  {
   "cell_type": "code",
   "execution_count": null,
   "id": "deb6296b",
   "metadata": {},
   "outputs": [],
   "source": [
    "data['income'].value_counts()"
   ]
  },
  {
   "cell_type": "code",
   "execution_count": null,
   "id": "74beef3b",
   "metadata": {},
   "outputs": [],
   "source": [
    "# droping education_num column because we have education ordinal encorded one\n",
    "data.drop([\"education\",\"fnlwgt\", \"native.country\"],axis=1,inplace=True)"
   ]
  },
  {
   "cell_type": "code",
   "execution_count": null,
   "id": "5d90e95d",
   "metadata": {},
   "outputs": [],
   "source": [
    "data.head()"
   ]
  },
  {
   "cell_type": "code",
   "execution_count": null,
   "id": "f1cf0264",
   "metadata": {},
   "outputs": [],
   "source": [
    "data.to_csv(\"cleandata.csv\",index=False)"
   ]
  },
  {
   "cell_type": "markdown",
   "id": "dc8bb26f",
   "metadata": {},
   "source": [
    "## Model Traning"
   ]
  },
  {
   "cell_type": "code",
   "execution_count": null,
   "id": "7456f1b9",
   "metadata": {},
   "outputs": [],
   "source": [
    "data.shape"
   ]
  },
  {
   "cell_type": "code",
   "execution_count": null,
   "id": "eba19cf0",
   "metadata": {},
   "outputs": [],
   "source": [
    "# Saprate dependent and indipendent features\n",
    "x = data.drop(\"income\",axis=1)\n",
    "y = data[\"income\"]"
   ]
  },
  {
   "cell_type": "code",
   "execution_count": null,
   "id": "1b5f136e",
   "metadata": {},
   "outputs": [],
   "source": [
    "catigorical_features = x.select_dtypes(include=\"object\").columns\n",
    "numerical_features = x.select_dtypes(exclude=\"object\").columns\n",
    "print(catigorical_features)\n",
    "print(numerical_features)"
   ]
  },
  {
   "cell_type": "code",
   "execution_count": null,
   "id": "8987d488",
   "metadata": {},
   "outputs": [],
   "source": [
    "( age, workclass, education_num, marital_status, occupation,relationship,  race,sex,  capital_gain, capital_loss,\n",
    " hours_per_week, native_country)"
   ]
  },
  {
   "cell_type": "code",
   "execution_count": null,
   "id": "6bdc2d59",
   "metadata": {},
   "outputs": [],
   "source": [
    "from sklearn.preprocessing import StandardScaler\n",
    "from sklearn.impute import SimpleImputer\n",
    "#pipline\n",
    "from sklearn.pipeline import Pipeline\n",
    "from sklearn.compose import ColumnTransformer"
   ]
  },
  {
   "cell_type": "code",
   "execution_count": null,
   "id": "668e94eb",
   "metadata": {},
   "outputs": [],
   "source": [
    "num_pipline = Pipeline(\n",
    "    steps=[\n",
    "        (\"imputer\",SimpleImputer(strategy=\"median\")),\n",
    "        (\"scaler\",StandardScaler())\n",
    "    ]\n",
    "\n",
    ") # to standardize the data values into a standard format.\n",
    "\n",
    "cato_pipline = Pipeline(\n",
    "    steps=[\n",
    "        (\"imputer\",SimpleImputer(strategy=\"most_frequent\")),\n",
    "        (\"scaler\",StandardScaler())\n",
    "    ]\n",
    "\n",
    ")\n",
    "\n",
    "# apply transform to particular columns. \n",
    "preprocessor = ColumnTransformer([\n",
    "    (\"num_pipline\",num_pipline,numerical_features)\n",
    "])\n"
   ]
  },
  {
   "cell_type": "code",
   "execution_count": null,
   "id": "b3aaed50",
   "metadata": {},
   "outputs": [],
   "source": [
    "# Train test Split\n",
    "from sklearn.model_selection import train_test_split\n",
    "X_train,X_test,y_train,y_test = train_test_split(x,y,test_size=0.20,random_state=42)"
   ]
  },
  {
   "cell_type": "code",
   "execution_count": null,
   "id": "d6586d61",
   "metadata": {},
   "outputs": [],
   "source": [
    "print(X_train.shape)\n",
    "print(X_test.shape)\n",
    "print(y_train.shape)\n",
    "print(y_test.shape)"
   ]
  },
  {
   "cell_type": "code",
   "execution_count": null,
   "id": "80c09e20",
   "metadata": {},
   "outputs": [],
   "source": [
    "from sklearn.linear_model import LogisticRegression\n",
    "from sklearn.tree import DecisionTreeClassifier\n",
    "from sklearn.ensemble import RandomForestClassifier\n",
    "from sklearn.model_selection import GridSearchCV\n",
    "from sklearn.metrics import accuracy_score,confusion_matrix,precision_score,recall_score,f1_score,classification_report,ConfusionMatrixDisplay"
   ]
  },
  {
   "cell_type": "code",
   "execution_count": null,
   "id": "967bc2d2",
   "metadata": {},
   "outputs": [],
   "source": [
    "def performance_metrices(test,predict):\n",
    "    confusionmetrix = print(f\"CONFUSION_METRIX: {confusion_matrix(test,predict)}\")\n",
    "    \n",
    "    precision = print(f\"PRECISION_SCORE: {precision_score(test,predict)}\")\n",
    "    \n",
    "    recall = print(f\"RECALL_SCORE: {recall_score(test,predict)}\")\n",
    "    \n",
    "    f1score = print(f\"F1_SCORE: {f1_score(test,predict)}\")\n",
    "    \n",
    "    accuracyscore = print(f\"ACCURACY_SCORE: {accuracy_score(test,predict)}\")\n",
    "    \n",
    "    return confusionmetrix,precision,recall,f1score,accuracyscore\n",
    "    "
   ]
  },
  {
   "cell_type": "markdown",
   "id": "1bd501ac",
   "metadata": {},
   "source": [
    "## Use Hyperparemetertuning"
   ]
  },
  {
   "cell_type": "code",
   "execution_count": null,
   "id": "9eb3c195",
   "metadata": {},
   "outputs": [],
   "source": [
    "lr = LogisticRegression()"
   ]
  },
  {
   "cell_type": "code",
   "execution_count": null,
   "id": "b622381b",
   "metadata": {},
   "outputs": [],
   "source": [
    "pram = {\n",
    "    \"class_weight\":[\"balanced\"],\n",
    "    'penalty': ['l1', 'l2'],\n",
    "    'C': [0.001, 0.01, 0.1, 1, 10, 100],\n",
    "    'solver': ['liblinear', 'saga']\n",
    "    \n",
    "}"
   ]
  },
  {
   "cell_type": "code",
   "execution_count": null,
   "id": "13bbcd67",
   "metadata": {},
   "outputs": [],
   "source": [
    "grid = GridSearchCV(estimator=lr,param_grid=pram,cv=5,n_jobs=-1, verbose=3)"
   ]
  },
  {
   "cell_type": "code",
   "execution_count": null,
   "id": "178fe87d",
   "metadata": {},
   "outputs": [],
   "source": [
    "grid.fit(X_train,y_train)"
   ]
  },
  {
   "cell_type": "code",
   "execution_count": null,
   "id": "bb37c20e",
   "metadata": {},
   "outputs": [],
   "source": [
    "grid.best_params_"
   ]
  },
  {
   "cell_type": "code",
   "execution_count": null,
   "id": "bdef0746",
   "metadata": {},
   "outputs": [],
   "source": [
    "grid.score(X_train,y_train)"
   ]
  },
  {
   "cell_type": "code",
   "execution_count": null,
   "id": "811b1be7",
   "metadata": {},
   "outputs": [],
   "source": [
    "y_prad = grid.predict(X_test)"
   ]
  },
  {
   "cell_type": "code",
   "execution_count": null,
   "id": "8b28c50c",
   "metadata": {},
   "outputs": [],
   "source": [
    "accuracy_score(y_test,y_prad)"
   ]
  },
  {
   "cell_type": "code",
   "execution_count": null,
   "id": "262fdd09",
   "metadata": {},
   "outputs": [],
   "source": [
    "dr = DecisionTreeClassifier()"
   ]
  },
  {
   "cell_type": "code",
   "execution_count": null,
   "id": "481c52dd",
   "metadata": {},
   "outputs": [],
   "source": [
    "param_grid = {\n",
    "    \"class_weight\":[\"balanced\"],\n",
    "    \"criterion\":['gini',\"entropy\",\"log_loss\"],\n",
    "    \"splitter\":['best','random'],\n",
    "    \"max_depth\":[3,4,5,6],\n",
    "    \"min_samples_split\":[2,3,4,5],\n",
    "    \"min_samples_leaf\":[1,2,3],\n",
    "    \"max_features\":[\"auto\",\"sqrt\",\"log2\"]\n",
    "}"
   ]
  },
  {
   "cell_type": "code",
   "execution_count": null,
   "id": "08dfe6a3",
   "metadata": {},
   "outputs": [],
   "source": [
    "grid_search = GridSearchCV(estimator=dr,param_grid=param_grid,cv=5,scoring=\"accuracy\")"
   ]
  },
  {
   "cell_type": "code",
   "execution_count": null,
   "id": "62498a71",
   "metadata": {},
   "outputs": [],
   "source": [
    "grid_search.fit(X_train,y_train)"
   ]
  },
  {
   "cell_type": "code",
   "execution_count": null,
   "id": "17c0b02b",
   "metadata": {},
   "outputs": [],
   "source": [
    "grid_search.best_params_"
   ]
  },
  {
   "cell_type": "code",
   "execution_count": null,
   "id": "6611ad13",
   "metadata": {},
   "outputs": [],
   "source": [
    "grid_search.score(X_train,y_train)"
   ]
  },
  {
   "cell_type": "code",
   "execution_count": null,
   "id": "6e7e5a16",
   "metadata": {},
   "outputs": [],
   "source": [
    "y_prad = grid_search.predict(X_test)"
   ]
  },
  {
   "cell_type": "code",
   "execution_count": null,
   "id": "37943152",
   "metadata": {},
   "outputs": [],
   "source": [
    "accuracy_score(y_test,y_prad)"
   ]
  },
  {
   "cell_type": "code",
   "execution_count": null,
   "id": "53b937d2",
   "metadata": {},
   "outputs": [],
   "source": [
    "print(classification_report(y_test,y_prad))"
   ]
  },
  {
   "cell_type": "code",
   "execution_count": null,
   "id": "f495e071",
   "metadata": {},
   "outputs": [],
   "source": [
    "rf = RandomForestClassifier()"
   ]
  },
  {
   "cell_type": "code",
   "execution_count": null,
   "id": "f5880134",
   "metadata": {},
   "outputs": [],
   "source": [
    "param_grid = {\n",
    "    \"class_weight\":[\"balanced\"],\n",
    "    'n_estimators': [20, 50, 30],\n",
    "    'max_depth': [10, 8, 5],\n",
    "    'min_samples_split': [2, 5, 10],\n",
    "}"
   ]
  },
  {
   "cell_type": "code",
   "execution_count": null,
   "id": "d726b28a",
   "metadata": {},
   "outputs": [],
   "source": [
    "grid_search = GridSearchCV(estimator=rf,param_grid=param_grid,cv=5,scoring=\"accuracy\")"
   ]
  },
  {
   "cell_type": "code",
   "execution_count": null,
   "id": "ee4fe7c9",
   "metadata": {},
   "outputs": [],
   "source": [
    "grid_search.fit(X_train,y_train)"
   ]
  },
  {
   "cell_type": "code",
   "execution_count": null,
   "id": "f2f48191",
   "metadata": {},
   "outputs": [],
   "source": [
    "grid_search.best_params_"
   ]
  },
  {
   "cell_type": "code",
   "execution_count": null,
   "id": "965e7bb6",
   "metadata": {},
   "outputs": [],
   "source": [
    "grid_search.score(X_train,y_train)"
   ]
  },
  {
   "cell_type": "code",
   "execution_count": null,
   "id": "9b789f0f",
   "metadata": {},
   "outputs": [],
   "source": [
    "y_prad = grid_search.predict(X_test)"
   ]
  },
  {
   "cell_type": "code",
   "execution_count": null,
   "id": "d7ddbce3",
   "metadata": {},
   "outputs": [],
   "source": [
    "accuracy_score(y_test,y_prad)"
   ]
  },
  {
   "cell_type": "code",
   "execution_count": null,
   "id": "c4a2e432",
   "metadata": {},
   "outputs": [],
   "source": [
    "print(classification_report(y_test,y_prad))"
   ]
  },
  {
   "cell_type": "markdown",
   "id": "59276846",
   "metadata": {},
   "source": [
    "# Happy Learning!"
   ]
  },
  {
   "cell_type": "code",
   "execution_count": null,
   "id": "d9f2bacb",
   "metadata": {},
   "outputs": [],
   "source": [
    "params = {\n",
    "                \"Random Forest\":{\n",
    "                    \"class_weight\":[\"balanced\"],\n",
    "                    'n_estimators': [20, 50, 30],\n",
    "                    'max_depth': [10, 8, 5],\n",
    "                    'min_samples_split': [2, 5, 10],\n",
    "                },\n",
    "                \"Decision Tree\":{\n",
    "                    \"class_weight\":[\"balanced\"],\n",
    "                    \"criterion\":['gini',\"entropy\",\"log_loss\"],\n",
    "                    \"splitter\":['best','random'],\n",
    "                    \"max_depth\":[3,4,5,6],\n",
    "                    \"min_samples_split\":[2,3,4,5],\n",
    "                    \"min_samples_leaf\":[1,2,3],\n",
    "                    \"max_features\":[\"auto\",\"sqrt\",\"log2\"]\n",
    "                },\n",
    "                \"Logastic\":{\n",
    "                    \"class_weight\":[\"balanced\"],\n",
    "                    'penalty': ['l1', 'l2'],\n",
    "                    'C': [0.001, 0.01, 0.1, 1, 10, 100],\n",
    "                    'solver': ['liblinear', 'saga']\n",
    "                }\n",
    "            }"
   ]
  }
 ],
 "metadata": {
  "kernelspec": {
   "display_name": "Python 3",
   "language": "python",
   "name": "python3"
  },
  "language_info": {
   "codemirror_mode": {
    "name": "ipython",
    "version": 3
   },
   "file_extension": ".py",
   "mimetype": "text/x-python",
   "name": "python",
   "nbconvert_exporter": "python",
   "pygments_lexer": "ipython3",
   "version": "3.8.8"
  },
  "vscode": {
   "interpreter": {
    "hash": "e7370f93d1d0cde622a1f8e1c04877d8463912d04d973331ad4851f04de6915a"
   }
  }
 },
 "nbformat": 4,
 "nbformat_minor": 5
}
